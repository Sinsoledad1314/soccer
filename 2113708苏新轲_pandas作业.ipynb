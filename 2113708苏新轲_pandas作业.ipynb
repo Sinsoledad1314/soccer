{
 "cells": [
  {
   "cell_type": "markdown",
   "id": "e5313687",
   "metadata": {},
   "source": [
    "# Ⅰ.数据导入+列名简化"
   ]
  },
  {
   "cell_type": "code",
   "execution_count": 2,
   "id": "ee6bd766",
   "metadata": {},
   "outputs": [
    {
     "name": "stdout",
     "output_type": "stream",
     "text": [
      "<class 'pandas.core.frame.DataFrame'>\n",
      "Int64Index: 5865 entries, 0 to 5864\n",
      "Data columns (total 9 columns):\n",
      " #   Column              Non-Null Count  Dtype  \n",
      "---  ------              --------------  -----  \n",
      " 0   单位名称                5865 non-null   object \n",
      " 1   学历                  5865 non-null   object \n",
      " 2   小类                  5536 non-null   object \n",
      " 3   中类                  5865 non-null   object \n",
      " 4   大类                  5865 non-null   object \n",
      " 5   管理岗位／专业技术职称／职业技能等级  5865 non-null   object \n",
      " 6   全年工资                5865 non-null   float64\n",
      " 7   门类                  5865 non-null   object \n",
      " 8   企业规模                5865 non-null   object \n",
      "dtypes: float64(1), object(8)\n",
      "memory usage: 458.2+ KB\n"
     ]
    }
   ],
   "source": [
    "import numpy as np\n",
    "import pandas as pd\n",
    "path1 = \"C:/Users/Sinso/Desktop/1.xlsx\"\n",
    "path2 = \"C:/Users/Sinso/Desktop/2.xlsx\"\n",
    "data1 = pd.read_excel(path1)\n",
    "data2 = pd.read_excel(path2)\n",
    "data1 = data1.rename(columns = {'法人单位名称':'单位名称'})\n",
    "data2 = data2.rename(columns = {'全年工资报酬合计(元)':'全年工资'})\n",
    "data2 = pd.merge(data2,data1,on='单位名称')\n",
    "data2.info()"
   ]
  },
  {
   "cell_type": "markdown",
   "id": "b37aa316",
   "metadata": {},
   "source": [
    "# Ⅱ.数据预处理"
   ]
  },
  {
   "cell_type": "markdown",
   "id": "550fe2d9",
   "metadata": {},
   "source": [
    "有缺失值，但**只有列‘小类’具有缺失值**"
   ]
  },
  {
   "cell_type": "code",
   "execution_count": 3,
   "id": "8ac23b3e",
   "metadata": {},
   "outputs": [
    {
     "data": {
      "text/plain": [
       "True"
      ]
     },
     "execution_count": 3,
     "metadata": {},
     "output_type": "execute_result"
    }
   ],
   "source": [
    "datanan = data2[data2['小类'].isnull()]\n",
    "datanan[datanan['中类'] == '其他专业技术人员'].shape == datanan.shape"
   ]
  },
  {
   "cell_type": "markdown",
   "id": "bb630005",
   "metadata": {},
   "source": [
    "发现含有缺失值的项对应的中类都是‘其他专业技术人员’，所以这些小类都用‘其他专业技术人员’进行填充."
   ]
  },
  {
   "cell_type": "code",
   "execution_count": 4,
   "id": "24f115de",
   "metadata": {},
   "outputs": [],
   "source": [
    "data2['小类'] = data2['小类'].fillna('其他专业技术人员')"
   ]
  },
  {
   "cell_type": "markdown",
   "id": "0f49f5f7",
   "metadata": {},
   "source": [
    "忽略企业员工人数小于10的数据，后续对企业评估减小误差"
   ]
  },
  {
   "cell_type": "code",
   "execution_count": 5,
   "id": "6a25af11",
   "metadata": {},
   "outputs": [],
   "source": [
    "data3_2_1 = data2.groupby(by=['单位名称']).count()\n",
    "data3 = data2.set_index('单位名称')\n",
    "data3 = data3.drop(index=data3_2_1[data3_2_1['小类']<10].index)"
   ]
  },
  {
   "cell_type": "markdown",
   "id": "795dcc79",
   "metadata": {},
   "source": [
    "# Ⅲ.数据分析"
   ]
  },
  {
   "cell_type": "markdown",
   "id": "4ef87657",
   "metadata": {},
   "source": [
    "## 1.规模分析"
   ]
  },
  {
   "cell_type": "code",
   "execution_count": 6,
   "id": "c211169e",
   "metadata": {},
   "outputs": [
    {
     "data": {
      "text/html": [
       "<div>\n",
       "<style scoped>\n",
       "    .dataframe tbody tr th:only-of-type {\n",
       "        vertical-align: middle;\n",
       "    }\n",
       "\n",
       "    .dataframe tbody tr th {\n",
       "        vertical-align: top;\n",
       "    }\n",
       "\n",
       "    .dataframe thead th {\n",
       "        text-align: right;\n",
       "    }\n",
       "</style>\n",
       "<table border=\"1\" class=\"dataframe\">\n",
       "  <thead>\n",
       "    <tr style=\"text-align: right;\">\n",
       "      <th></th>\n",
       "      <th>全年平均工资</th>\n",
       "      <th>员工人数</th>\n",
       "    </tr>\n",
       "    <tr>\n",
       "      <th>企业规模</th>\n",
       "      <th></th>\n",
       "      <th></th>\n",
       "    </tr>\n",
       "  </thead>\n",
       "  <tbody>\n",
       "    <tr>\n",
       "      <th>小型</th>\n",
       "      <td>78553.745302</td>\n",
       "      <td>596.0</td>\n",
       "    </tr>\n",
       "    <tr>\n",
       "      <th>大型</th>\n",
       "      <td>93099.175563</td>\n",
       "      <td>2959.0</td>\n",
       "    </tr>\n",
       "    <tr>\n",
       "      <th>中型</th>\n",
       "      <td>97515.290104</td>\n",
       "      <td>2213.0</td>\n",
       "    </tr>\n",
       "    <tr>\n",
       "      <th>微型</th>\n",
       "      <td>139712.335670</td>\n",
       "      <td>97.0</td>\n",
       "    </tr>\n",
       "  </tbody>\n",
       "</table>\n",
       "</div>"
      ],
      "text/plain": [
       "             全年平均工资    员工人数\n",
       "企业规模                       \n",
       "小型     78553.745302   596.0\n",
       "大型     93099.175563  2959.0\n",
       "中型     97515.290104  2213.0\n",
       "微型    139712.335670    97.0"
      ]
     },
     "execution_count": 6,
     "metadata": {},
     "output_type": "execute_result"
    }
   ],
   "source": [
    "data3_1_1 = data2.set_index(['企业规模'])\n",
    "data3_1_2 = data2.groupby(by='企业规模').mean(numeric_only=True).sort_values(by='全年工资')\n",
    "for each in data3_1_2.index:\n",
    "    data3_1_2.loc[each,'员工人数'] = len(data3_1_1.loc[each])\n",
    "data3_1_2 = data3_1_2.rename(columns={'全年工资':'全年平均工资'})\n",
    "data3_1_2"
   ]
  },
  {
   "cell_type": "markdown",
   "id": "8db2de2c",
   "metadata": {},
   "source": [
    "**结论：** 微型企业人少，应证了一句话：高风险高回报，平均工资最高，微型企业可能也是创业集中点，在掌握好方向后可能创收比较大；中型企业与大型企业人数与工资水平相差不大，但小型企业与中大型相比全年工资低了一万多，所以从总方面来说，**建议去中大型企业，不建议小型与微型（需要做风险评估）**"
   ]
  },
  {
   "cell_type": "markdown",
   "id": "a5abada3",
   "metadata": {},
   "source": [
    "## 2.企业分析"
   ]
  },
  {
   "cell_type": "markdown",
   "id": "7f910ebe",
   "metadata": {},
   "source": [
    "### 2.1 企业间学历竞争"
   ]
  },
  {
   "cell_type": "markdown",
   "id": "6f0c40c1",
   "metadata": {},
   "source": [
    "**对企业分析的数据源采用经过删除小企业之后的数据 data3**"
   ]
  },
  {
   "cell_type": "markdown",
   "id": "2f38d1ae",
   "metadata": {},
   "source": [
    "先给出评判比例：\n",
    "\n",
    "研究生（含博士、硕士）：35% \n",
    "\n",
    "大学本科：28%\n",
    "\n",
    "大学专科：20%\n",
    "\n",
    "高中、中专或技校：12%\n",
    "\n",
    "初中及以下：5%"
   ]
  },
  {
   "cell_type": "code",
   "execution_count": 7,
   "id": "dc376b93",
   "metadata": {
    "scrolled": true
   },
   "outputs": [
    {
     "data": {
      "text/html": [
       "<div>\n",
       "<style scoped>\n",
       "    .dataframe tbody tr th:only-of-type {\n",
       "        vertical-align: middle;\n",
       "    }\n",
       "\n",
       "    .dataframe tbody tr th {\n",
       "        vertical-align: top;\n",
       "    }\n",
       "\n",
       "    .dataframe thead th {\n",
       "        text-align: right;\n",
       "    }\n",
       "</style>\n",
       "<table border=\"1\" class=\"dataframe\">\n",
       "  <thead>\n",
       "    <tr style=\"text-align: right;\">\n",
       "      <th></th>\n",
       "      <th>总人数</th>\n",
       "      <th>得分</th>\n",
       "    </tr>\n",
       "    <tr>\n",
       "      <th>单位名称</th>\n",
       "      <th></th>\n",
       "      <th></th>\n",
       "    </tr>\n",
       "  </thead>\n",
       "  <tbody>\n",
       "    <tr>\n",
       "      <th>AC</th>\n",
       "      <td>42</td>\n",
       "      <td>35.000000</td>\n",
       "    </tr>\n",
       "    <tr>\n",
       "      <th>Z</th>\n",
       "      <td>33</td>\n",
       "      <td>33.242424</td>\n",
       "    </tr>\n",
       "    <tr>\n",
       "      <th>H</th>\n",
       "      <td>100</td>\n",
       "      <td>31.510000</td>\n",
       "    </tr>\n",
       "    <tr>\n",
       "      <th>AM</th>\n",
       "      <td>67</td>\n",
       "      <td>28.626866</td>\n",
       "    </tr>\n",
       "    <tr>\n",
       "      <th>N</th>\n",
       "      <td>12</td>\n",
       "      <td>26.333333</td>\n",
       "    </tr>\n",
       "    <tr>\n",
       "      <th>V</th>\n",
       "      <td>60</td>\n",
       "      <td>26.266667</td>\n",
       "    </tr>\n",
       "  </tbody>\n",
       "</table>\n",
       "</div>"
      ],
      "text/plain": [
       "      总人数         得分\n",
       "单位名称                \n",
       "AC     42  35.000000\n",
       "Z      33  33.242424\n",
       "H     100  31.510000\n",
       "AM     67  28.626866\n",
       "N      12  26.333333\n",
       "V      60  26.266667"
      ]
     },
     "execution_count": 7,
     "metadata": {},
     "output_type": "execute_result"
    }
   ],
   "source": [
    "data3_2_1 = data3.groupby(by=['单位名称','学历']).count()\n",
    "data3_2_3 = pd.DataFrame(data3_2_1['小类'])\n",
    "data3_2_3.rename(columns={'小类':'对应学历人数'},inplace=True)\n",
    "data3_2_1 = data3.groupby(by=['单位名称']).count()\n",
    "data3_2_4 = pd.DataFrame(data3_2_1['小类'])\n",
    "data3_2_4.rename(columns={'小类':'总人数'},inplace=True)\n",
    "data3_2_4.insert(1,'得分',np.zeros(data3_2_4.shape[0],np.int64))\n",
    "scorepor = np.array([0.35,0.28,0.2,0.12,0.05])\n",
    "cir = 0\n",
    "for key1,key2 in data3_2_3.index:\n",
    "    porpo = data3_2_3.loc[(key1,key2),'对应学历人数']/data3_2_4.loc[key1,'总人数']\n",
    "    data3_2_4.loc[key1,'得分']+=100*porpo*scorepor[cir%5]\n",
    "    cir+=1\n",
    "data3_2_4.sort_values(ascending=False,by='得分',inplace=True)\n",
    "data3_2_4.head(6)"
   ]
  },
  {
   "cell_type": "markdown",
   "id": "c66e7429",
   "metadata": {},
   "source": [
    "企业AC，Z，H，AM，N，V学历较其他企业高"
   ]
  },
  {
   "cell_type": "markdown",
   "id": "842d42b7",
   "metadata": {},
   "source": [
    "### 2.2 企业间工资水平比较"
   ]
  },
  {
   "cell_type": "code",
   "execution_count": 8,
   "id": "308d5284",
   "metadata": {},
   "outputs": [
    {
     "data": {
      "text/html": [
       "<div>\n",
       "<style scoped>\n",
       "    .dataframe tbody tr th:only-of-type {\n",
       "        vertical-align: middle;\n",
       "    }\n",
       "\n",
       "    .dataframe tbody tr th {\n",
       "        vertical-align: top;\n",
       "    }\n",
       "\n",
       "    .dataframe thead th {\n",
       "        text-align: right;\n",
       "    }\n",
       "</style>\n",
       "<table border=\"1\" class=\"dataframe\">\n",
       "  <thead>\n",
       "    <tr style=\"text-align: right;\">\n",
       "      <th></th>\n",
       "      <th>全年平均工资</th>\n",
       "      <th>总人数</th>\n",
       "    </tr>\n",
       "    <tr>\n",
       "      <th>单位名称</th>\n",
       "      <th></th>\n",
       "      <th></th>\n",
       "    </tr>\n",
       "  </thead>\n",
       "  <tbody>\n",
       "    <tr>\n",
       "      <th>H</th>\n",
       "      <td>268267.338800</td>\n",
       "      <td>100</td>\n",
       "    </tr>\n",
       "    <tr>\n",
       "      <th>AH</th>\n",
       "      <td>211672.348929</td>\n",
       "      <td>140</td>\n",
       "    </tr>\n",
       "    <tr>\n",
       "      <th>Q</th>\n",
       "      <td>207234.429545</td>\n",
       "      <td>22</td>\n",
       "    </tr>\n",
       "    <tr>\n",
       "      <th>P</th>\n",
       "      <td>204540.458824</td>\n",
       "      <td>68</td>\n",
       "    </tr>\n",
       "    <tr>\n",
       "      <th>Z</th>\n",
       "      <td>188521.454848</td>\n",
       "      <td>33</td>\n",
       "    </tr>\n",
       "    <tr>\n",
       "      <th>K</th>\n",
       "      <td>159270.057143</td>\n",
       "      <td>35</td>\n",
       "    </tr>\n",
       "  </tbody>\n",
       "</table>\n",
       "</div>"
      ],
      "text/plain": [
       "             全年平均工资  总人数\n",
       "单位名称                    \n",
       "H     268267.338800  100\n",
       "AH    211672.348929  140\n",
       "Q     207234.429545   22\n",
       "P     204540.458824   68\n",
       "Z     188521.454848   33\n",
       "K     159270.057143   35"
      ]
     },
     "execution_count": 8,
     "metadata": {},
     "output_type": "execute_result"
    }
   ],
   "source": [
    "data3_2_6 = data3.groupby(by='单位名称').mean(numeric_only=True).sort_values(by='全年工资')\n",
    "data3_2_6 = data3_2_6.rename(columns={'全年工资':'平均全年工资'})\n",
    "data3_2_6.insert(1,'总人数',data3_2_4['总人数'])\n",
    "data3_2_6.sort_values(by='全年平均工资',ascending=False,inplace=True)\n",
    "data3_2_6.head(6)"
   ]
  },
  {
   "cell_type": "markdown",
   "id": "4cbf25c3",
   "metadata": {},
   "source": [
    "企业H,AH,Q,P,Z,K平均工资高，尤其H公司以26万年高薪领跑"
   ]
  },
  {
   "cell_type": "markdown",
   "id": "3ed05b1f",
   "metadata": {},
   "source": [
    "### 2.3 同行业选择就业企业倾向"
   ]
  },
  {
   "cell_type": "code",
   "execution_count": 68,
   "id": "003c3223",
   "metadata": {
    "scrolled": true
   },
   "outputs": [
    {
     "name": "stdout",
     "output_type": "stream",
     "text": [
      "对于大类“ 专业技术人员 ”，去企业 X D AA 较多，占比分别为 17.86% 11.94% 10.87%\n",
      "对于大类“ 办事人员 ”，去企业 X P C 较多，占比分别为 23.68% 11.18% 7.57%\n",
      "对于大类“ 单位负责人 ”，去企业 AH J D 较多，占比分别为 15.13% 14.42% 10.64%\n",
      "对于大类“ 商业、服务业人员 ”，去企业 X G AE 较多，占比分别为 78.71% 3.20% 2.86%\n",
      "对于大类“ 生产运输工人 ”，去企业 X J D 较多，占比分别为 35.01% 15.85% 12.91%\n"
     ]
    }
   ],
   "source": [
    "data3_2_7 = data2.groupby(by=['大类']).count()\n",
    "data3_2_8 = data2.groupby(by=['大类','单位名称']).count()\n",
    "data3_2_9 = pd.DataFrame(data3_2_8['小类'])\n",
    "data3_2_9.rename(columns={'小类':'总人数'},inplace=True)\n",
    "length_dl = len(data3_2_9.index.levels[0])\n",
    "for each in range(length_dl):\n",
    "    data_ls = data3_2_9.loc[data3_2_9.index.levels[0][each]]\n",
    "    data_ls.sort_values(by='总人数',ascending=False,inplace=True)\n",
    "    total = data3_2_7.iloc[each,0]\n",
    "    data_ls = data_ls.head(3)\n",
    "    proportion1 = data_ls.iloc[0,0]/total\n",
    "    proportion2 = data_ls.iloc[1,0]/total\n",
    "    proportion3 = data_ls.iloc[2,0]/total\n",
    "    proportion1 = \"%.2f%%\" % (proportion1 * 100)\n",
    "    proportion2 = \"%.2f%%\" % (proportion2 * 100)\n",
    "    proportion3 = \"%.2f%%\" % (proportion3 * 100)\n",
    "    print('对于大类“',data3_2_9.index.levels[0][each],'”，去企业',data_ls.index[0],data_ls.index[1],\\\n",
    "          data_ls.index[2],'较多，占比分别为',proportion1,proportion2,proportion3)"
   ]
  },
  {
   "cell_type": "markdown",
   "id": "41f98815",
   "metadata": {},
   "source": [
    "由于企业X是超大型企业，所以分析上很多行业都是去的X偏多，对于商品、服务业人员聚集最多。"
   ]
  },
  {
   "cell_type": "code",
   "execution_count": 132,
   "id": "db5383f5",
   "metadata": {
    "scrolled": true
   },
   "outputs": [
    {
     "name": "stdout",
     "output_type": "stream",
     "text": [
      "对于小类“ 人事部门经理 ”，总人数为 16 ，去企业 AH AE K 较多，占比分别为 25.00% 12.50% 12.50%\n",
      "对于小类“ 人力资源专业人员 ”，总人数为 27 ，去企业 H AA E 较多，占比分别为 25.93% 22.22% 14.81%\n",
      "对于小类“ 企业总经理 ”，总人数为 55 ，去企业 X H M 较多，占比分别为 10.91% 9.09% 9.09%\n",
      "对于小类“ 其他专业技术人员 ”，总人数为 329 ，去企业 X E AA 较多，占比分别为 55.93% 26.14% 5.47%\n",
      "对于小类“ 其他企业中高级管理人员 ”，总人数为 165 ，去企业 J D E 较多，占比分别为 36.97% 23.64% 13.94%\n",
      "对于小类“ 其他办事人员和有关人员 ”，总人数为 108 ，去企业 C R E 较多，占比分别为 41.67% 14.81% 13.89%\n",
      "对于小类“ 其他职能部门经理 ”，总人数为 57 ，去企业 AH AE AA 较多，占比分别为 21.05% 15.79% 14.04%\n",
      "对于小类“ 建筑工程技术人员 ”，总人数为 138 ，去企业 A T C 较多，占比分别为 50.00% 34.78% 5.07%\n",
      "对于小类“ 生产经营部门经理 ”，总人数为 31 ，去企业 M AA AH 较多，占比分别为 29.03% 22.58% 19.35%\n",
      "对于小类“ 行政业务办理人员 ”，总人数为 60 ，去企业 AD AA F 较多，占比分别为 20.00% 18.33% 18.33%\n",
      "对于小类“ 行政事务处理人员 ”，总人数为 59 ，去企业 AA D O 较多，占比分别为 23.73% 23.73% 22.03%\n",
      "对于小类“ 行政部门经理 ”，总人数为 21 ，去企业 F M AH 较多，占比分别为 28.57% 14.29% 9.52%\n",
      "对于小类“ 财务部门经理 ”，总人数为 20 ，去企业 AH AE A 较多，占比分别为 20.00% 15.00% 10.00%\n",
      "对于小类“ 销售和营销部门经理 ”，总人数为 31 ，去企业 AH AE AA 较多，占比分别为 32.26% 12.90% 9.68%\n"
     ]
    },
    {
     "data": {
      "text/html": [
       "<div>\n",
       "<style scoped>\n",
       "    .dataframe tbody tr th:only-of-type {\n",
       "        vertical-align: middle;\n",
       "    }\n",
       "\n",
       "    .dataframe tbody tr th {\n",
       "        vertical-align: top;\n",
       "    }\n",
       "\n",
       "    .dataframe thead th {\n",
       "        text-align: right;\n",
       "    }\n",
       "</style>\n",
       "<table border=\"1\" class=\"dataframe\">\n",
       "  <thead>\n",
       "    <tr style=\"text-align: right;\">\n",
       "      <th></th>\n",
       "      <th></th>\n",
       "      <th>总人数</th>\n",
       "      <th>占比</th>\n",
       "    </tr>\n",
       "    <tr>\n",
       "      <th>小类</th>\n",
       "      <th>单位名称</th>\n",
       "      <th></th>\n",
       "      <th></th>\n",
       "    </tr>\n",
       "  </thead>\n",
       "  <tbody>\n",
       "    <tr>\n",
       "      <th rowspan=\"3\" valign=\"top\">人事部门经理</th>\n",
       "      <th>AE</th>\n",
       "      <td>2</td>\n",
       "      <td>12.50%</td>\n",
       "    </tr>\n",
       "    <tr>\n",
       "      <th>AH</th>\n",
       "      <td>4</td>\n",
       "      <td>25.00%</td>\n",
       "    </tr>\n",
       "    <tr>\n",
       "      <th>K</th>\n",
       "      <td>2</td>\n",
       "      <td>12.50%</td>\n",
       "    </tr>\n",
       "    <tr>\n",
       "      <th rowspan=\"3\" valign=\"top\">人力资源专业人员</th>\n",
       "      <th>AA</th>\n",
       "      <td>6</td>\n",
       "      <td>22.22%</td>\n",
       "    </tr>\n",
       "    <tr>\n",
       "      <th>E</th>\n",
       "      <td>4</td>\n",
       "      <td>14.81%</td>\n",
       "    </tr>\n",
       "    <tr>\n",
       "      <th>H</th>\n",
       "      <td>7</td>\n",
       "      <td>25.93%</td>\n",
       "    </tr>\n",
       "    <tr>\n",
       "      <th rowspan=\"3\" valign=\"top\">企业总经理</th>\n",
       "      <th>H</th>\n",
       "      <td>5</td>\n",
       "      <td>9.09%</td>\n",
       "    </tr>\n",
       "    <tr>\n",
       "      <th>M</th>\n",
       "      <td>5</td>\n",
       "      <td>9.09%</td>\n",
       "    </tr>\n",
       "    <tr>\n",
       "      <th>X</th>\n",
       "      <td>6</td>\n",
       "      <td>10.91%</td>\n",
       "    </tr>\n",
       "    <tr>\n",
       "      <th rowspan=\"3\" valign=\"top\">其他专业技术人员</th>\n",
       "      <th>AA</th>\n",
       "      <td>18</td>\n",
       "      <td>5.47%</td>\n",
       "    </tr>\n",
       "    <tr>\n",
       "      <th>E</th>\n",
       "      <td>86</td>\n",
       "      <td>26.14%</td>\n",
       "    </tr>\n",
       "    <tr>\n",
       "      <th>X</th>\n",
       "      <td>184</td>\n",
       "      <td>55.93%</td>\n",
       "    </tr>\n",
       "    <tr>\n",
       "      <th rowspan=\"3\" valign=\"top\">其他企业中高级管理人员</th>\n",
       "      <th>D</th>\n",
       "      <td>39</td>\n",
       "      <td>23.64%</td>\n",
       "    </tr>\n",
       "    <tr>\n",
       "      <th>E</th>\n",
       "      <td>23</td>\n",
       "      <td>13.94%</td>\n",
       "    </tr>\n",
       "    <tr>\n",
       "      <th>J</th>\n",
       "      <td>61</td>\n",
       "      <td>36.97%</td>\n",
       "    </tr>\n",
       "    <tr>\n",
       "      <th rowspan=\"3\" valign=\"top\">其他办事人员和有关人员</th>\n",
       "      <th>C</th>\n",
       "      <td>45</td>\n",
       "      <td>41.67%</td>\n",
       "    </tr>\n",
       "    <tr>\n",
       "      <th>E</th>\n",
       "      <td>15</td>\n",
       "      <td>13.89%</td>\n",
       "    </tr>\n",
       "    <tr>\n",
       "      <th>R</th>\n",
       "      <td>16</td>\n",
       "      <td>14.81%</td>\n",
       "    </tr>\n",
       "    <tr>\n",
       "      <th rowspan=\"3\" valign=\"top\">其他职能部门经理</th>\n",
       "      <th>AA</th>\n",
       "      <td>8</td>\n",
       "      <td>14.04%</td>\n",
       "    </tr>\n",
       "    <tr>\n",
       "      <th>AE</th>\n",
       "      <td>9</td>\n",
       "      <td>15.79%</td>\n",
       "    </tr>\n",
       "    <tr>\n",
       "      <th>AH</th>\n",
       "      <td>12</td>\n",
       "      <td>21.05%</td>\n",
       "    </tr>\n",
       "    <tr>\n",
       "      <th rowspan=\"3\" valign=\"top\">建筑工程技术人员</th>\n",
       "      <th>A</th>\n",
       "      <td>69</td>\n",
       "      <td>50.00%</td>\n",
       "    </tr>\n",
       "    <tr>\n",
       "      <th>C</th>\n",
       "      <td>7</td>\n",
       "      <td>5.07%</td>\n",
       "    </tr>\n",
       "    <tr>\n",
       "      <th>T</th>\n",
       "      <td>48</td>\n",
       "      <td>34.78%</td>\n",
       "    </tr>\n",
       "    <tr>\n",
       "      <th rowspan=\"3\" valign=\"top\">生产经营部门经理</th>\n",
       "      <th>AA</th>\n",
       "      <td>7</td>\n",
       "      <td>22.58%</td>\n",
       "    </tr>\n",
       "    <tr>\n",
       "      <th>AH</th>\n",
       "      <td>6</td>\n",
       "      <td>19.35%</td>\n",
       "    </tr>\n",
       "    <tr>\n",
       "      <th>M</th>\n",
       "      <td>9</td>\n",
       "      <td>29.03%</td>\n",
       "    </tr>\n",
       "    <tr>\n",
       "      <th rowspan=\"3\" valign=\"top\">行政业务办理人员</th>\n",
       "      <th>AA</th>\n",
       "      <td>11</td>\n",
       "      <td>18.33%</td>\n",
       "    </tr>\n",
       "    <tr>\n",
       "      <th>AD</th>\n",
       "      <td>12</td>\n",
       "      <td>20.00%</td>\n",
       "    </tr>\n",
       "    <tr>\n",
       "      <th>F</th>\n",
       "      <td>11</td>\n",
       "      <td>18.33%</td>\n",
       "    </tr>\n",
       "    <tr>\n",
       "      <th rowspan=\"3\" valign=\"top\">行政事务处理人员</th>\n",
       "      <th>AA</th>\n",
       "      <td>14</td>\n",
       "      <td>23.73%</td>\n",
       "    </tr>\n",
       "    <tr>\n",
       "      <th>D</th>\n",
       "      <td>14</td>\n",
       "      <td>23.73%</td>\n",
       "    </tr>\n",
       "    <tr>\n",
       "      <th>O</th>\n",
       "      <td>13</td>\n",
       "      <td>22.03%</td>\n",
       "    </tr>\n",
       "    <tr>\n",
       "      <th rowspan=\"3\" valign=\"top\">行政部门经理</th>\n",
       "      <th>AH</th>\n",
       "      <td>2</td>\n",
       "      <td>9.52%</td>\n",
       "    </tr>\n",
       "    <tr>\n",
       "      <th>F</th>\n",
       "      <td>6</td>\n",
       "      <td>28.57%</td>\n",
       "    </tr>\n",
       "    <tr>\n",
       "      <th>M</th>\n",
       "      <td>3</td>\n",
       "      <td>14.29%</td>\n",
       "    </tr>\n",
       "    <tr>\n",
       "      <th rowspan=\"3\" valign=\"top\">财务部门经理</th>\n",
       "      <th>A</th>\n",
       "      <td>2</td>\n",
       "      <td>10.00%</td>\n",
       "    </tr>\n",
       "    <tr>\n",
       "      <th>AE</th>\n",
       "      <td>3</td>\n",
       "      <td>15.00%</td>\n",
       "    </tr>\n",
       "    <tr>\n",
       "      <th>AH</th>\n",
       "      <td>4</td>\n",
       "      <td>20.00%</td>\n",
       "    </tr>\n",
       "    <tr>\n",
       "      <th rowspan=\"3\" valign=\"top\">销售和营销部门经理</th>\n",
       "      <th>AA</th>\n",
       "      <td>3</td>\n",
       "      <td>9.68%</td>\n",
       "    </tr>\n",
       "    <tr>\n",
       "      <th>AE</th>\n",
       "      <td>4</td>\n",
       "      <td>12.90%</td>\n",
       "    </tr>\n",
       "    <tr>\n",
       "      <th>AH</th>\n",
       "      <td>10</td>\n",
       "      <td>32.26%</td>\n",
       "    </tr>\n",
       "  </tbody>\n",
       "</table>\n",
       "</div>"
      ],
      "text/plain": [
       "                  总人数      占比\n",
       "小类          单位名称             \n",
       "人事部门经理      AE      2  12.50%\n",
       "            AH      4  25.00%\n",
       "            K       2  12.50%\n",
       "人力资源专业人员    AA      6  22.22%\n",
       "            E       4  14.81%\n",
       "            H       7  25.93%\n",
       "企业总经理       H       5   9.09%\n",
       "            M       5   9.09%\n",
       "            X       6  10.91%\n",
       "其他专业技术人员    AA     18   5.47%\n",
       "            E      86  26.14%\n",
       "            X     184  55.93%\n",
       "其他企业中高级管理人员 D      39  23.64%\n",
       "            E      23  13.94%\n",
       "            J      61  36.97%\n",
       "其他办事人员和有关人员 C      45  41.67%\n",
       "            E      15  13.89%\n",
       "            R      16  14.81%\n",
       "其他职能部门经理    AA      8  14.04%\n",
       "            AE      9  15.79%\n",
       "            AH     12  21.05%\n",
       "建筑工程技术人员    A      69  50.00%\n",
       "            C       7   5.07%\n",
       "            T      48  34.78%\n",
       "生产经营部门经理    AA      7  22.58%\n",
       "            AH      6  19.35%\n",
       "            M       9  29.03%\n",
       "行政业务办理人员    AA     11  18.33%\n",
       "            AD     12  20.00%\n",
       "            F      11  18.33%\n",
       "行政事务处理人员    AA     14  23.73%\n",
       "            D      14  23.73%\n",
       "            O      13  22.03%\n",
       "行政部门经理      AH      2   9.52%\n",
       "            F       6  28.57%\n",
       "            M       3  14.29%\n",
       "财务部门经理      A       2  10.00%\n",
       "            AE      3  15.00%\n",
       "            AH      4  20.00%\n",
       "销售和营销部门经理   AA      3   9.68%\n",
       "            AE      4  12.90%\n",
       "            AH     10  32.26%"
      ]
     },
     "execution_count": 132,
     "metadata": {},
     "output_type": "execute_result"
    }
   ],
   "source": [
    "data3_2_10 = data2.groupby(by=['小类']).count()\n",
    "data3_2_11 = data2.groupby(by=['小类','单位名称']).count()\n",
    "data3_2_12 = pd.DataFrame(data3_2_11['大类'])\n",
    "data3_2_12.rename(columns={'大类':'总人数'},inplace=True)\n",
    "length_dl = len(data3_2_12.index.levels[0])\n",
    "data3_2_12.insert(1,'占比',np.nan)\n",
    "for each in range(length_dl):\n",
    "    index_ls = data3_2_12.index.levels[0][each] #小类的索引\n",
    "    total = data3_2_10.loc[index_ls,'全年工资']\n",
    "    data_ls = data3_2_12.loc[index_ls]\n",
    "    if total > 10 & data_ls.shape[0] > 3:\n",
    "        data_ls = data3_2_12.loc[data3_2_12.index.levels[0][each]].copy()\n",
    "        data_ls.sort_values(by='总人数',ascending=False,inplace=True)\n",
    "        total = data3_2_10.iloc[each,0]\n",
    "        data_ls = data_ls.head(3)\n",
    "        proportion1 = data_ls.iloc[0,0]/total\n",
    "        proportion2 = data_ls.iloc[1,0]/total\n",
    "        proportion3 = data_ls.iloc[2,0]/total\n",
    "        proportion1 = \"%.2f%%\" % (proportion1 * 100)\n",
    "        proportion2 = \"%.2f%%\" % (proportion2 * 100)\n",
    "        proportion3 = \"%.2f%%\" % (proportion3 * 100)\n",
    "        data3_2_12.loc[(index_ls,data_ls.index[0]),'占比'] = proportion1\n",
    "        data3_2_12.loc[(index_ls,data_ls.index[1]),'占比'] = proportion2\n",
    "        data3_2_12.loc[(index_ls,data_ls.index[2]),'占比'] = proportion3\n",
    "        print('对于小类“',data3_2_12.index.levels[0][each],'”，总人数为',total,'，去企业',data_ls.index[0],data_ls.index[1],\\\n",
    "             data_ls.index[2],'较多，占比分别为',proportion1,proportion2,proportion3)\n",
    "data3_2_12.dropna(inplace=True)\n",
    "data3_2_12.sort_values(by='占比')\n",
    "data3_2_12.sort_index()"
   ]
  },
  {
   "cell_type": "markdown",
   "id": "161930df",
   "metadata": {},
   "source": [
    "## 3.工资水平分析"
   ]
  },
  {
   "cell_type": "markdown",
   "id": "bfce0ba8",
   "metadata": {},
   "source": [
    "### 3.1 总体分析"
   ]
  },
  {
   "cell_type": "code",
   "execution_count": 141,
   "id": "29d1137c",
   "metadata": {},
   "outputs": [
    {
     "name": "stdout",
     "output_type": "stream",
     "text": [
      "这些员工 工资的中位数是 83000.0 ，平均工资为 94058.2994458653\n"
     ]
    }
   ],
   "source": [
    "gz_mean = data2['全年工资'].mean()\n",
    "gz_max = data2['全年工资'].max()\n",
    "gz_min = data2['全年工资'].min()\n",
    "gz_median = data2['全年工资'].median()\n",
    "print('这些员工 工资的中位数是',gz_median,'，平均工资为',gz_mean)"
   ]
  },
  {
   "cell_type": "markdown",
   "id": "c111d362",
   "metadata": {},
   "source": [
    "平均工资比中位数高一万多，这些员工工资差异较大"
   ]
  },
  {
   "cell_type": "markdown",
   "id": "df7e51f6",
   "metadata": {},
   "source": [
    "### 3.2 从学历分析"
   ]
  },
  {
   "cell_type": "code",
   "execution_count": 150,
   "id": "e8377a30",
   "metadata": {
    "scrolled": true
   },
   "outputs": [
    {
     "data": {
      "text/html": [
       "<div>\n",
       "<style scoped>\n",
       "    .dataframe tbody tr th:only-of-type {\n",
       "        vertical-align: middle;\n",
       "    }\n",
       "\n",
       "    .dataframe tbody tr th {\n",
       "        vertical-align: top;\n",
       "    }\n",
       "\n",
       "    .dataframe thead th {\n",
       "        text-align: right;\n",
       "    }\n",
       "</style>\n",
       "<table border=\"1\" class=\"dataframe\">\n",
       "  <thead>\n",
       "    <tr style=\"text-align: right;\">\n",
       "      <th></th>\n",
       "      <th>总人数</th>\n",
       "      <th>平均全年工资</th>\n",
       "    </tr>\n",
       "    <tr>\n",
       "      <th>学历</th>\n",
       "      <th></th>\n",
       "      <th></th>\n",
       "    </tr>\n",
       "  </thead>\n",
       "  <tbody>\n",
       "    <tr>\n",
       "      <th>高中、中专或技校</th>\n",
       "      <td>2195</td>\n",
       "      <td>76206.207804</td>\n",
       "    </tr>\n",
       "    <tr>\n",
       "      <th>初中及以下</th>\n",
       "      <td>1120</td>\n",
       "      <td>82668.927063</td>\n",
       "    </tr>\n",
       "    <tr>\n",
       "      <th>大学专科</th>\n",
       "      <td>1218</td>\n",
       "      <td>87659.881511</td>\n",
       "    </tr>\n",
       "    <tr>\n",
       "      <th>大学本科</th>\n",
       "      <td>1255</td>\n",
       "      <td>135555.735155</td>\n",
       "    </tr>\n",
       "    <tr>\n",
       "      <th>研究生（含博士、硕士）</th>\n",
       "      <td>77</td>\n",
       "      <td>193479.461169</td>\n",
       "    </tr>\n",
       "  </tbody>\n",
       "</table>\n",
       "</div>"
      ],
      "text/plain": [
       "              总人数         平均全年工资\n",
       "学历                              \n",
       "高中、中专或技校     2195   76206.207804\n",
       "初中及以下        1120   82668.927063\n",
       "大学专科         1218   87659.881511\n",
       "大学本科         1255  135555.735155\n",
       "研究生（含博士、硕士）    77  193479.461169"
      ]
     },
     "execution_count": 150,
     "metadata": {},
     "output_type": "execute_result"
    }
   ],
   "source": [
    "data3_3_1 = data2.groupby(by='学历').mean(numeric_only=True).sort_values(by='全年工资')\n",
    "data3_3_2 = data3_3_1.rename(columns={'全年工资':'平均全年工资'})\n",
    "data3_3_3 = data2.groupby(by='学历').count()\n",
    "data3_3_2.insert(0,'总人数',data3_3_3['小类'])\n",
    "data3_3_2"
   ]
  },
  {
   "cell_type": "markdown",
   "id": "1d00858c",
   "metadata": {},
   "source": [
    "学历越高平均工资越高，尤其研究生平均工资接近20万"
   ]
  },
  {
   "cell_type": "markdown",
   "id": "8e9599a9",
   "metadata": {},
   "source": [
    "### 3.3 从技能等级"
   ]
  },
  {
   "cell_type": "code",
   "execution_count": 152,
   "id": "ad8a377e",
   "metadata": {
    "scrolled": true
   },
   "outputs": [
    {
     "data": {
      "text/html": [
       "<div>\n",
       "<style scoped>\n",
       "    .dataframe tbody tr th:only-of-type {\n",
       "        vertical-align: middle;\n",
       "    }\n",
       "\n",
       "    .dataframe tbody tr th {\n",
       "        vertical-align: top;\n",
       "    }\n",
       "\n",
       "    .dataframe thead th {\n",
       "        text-align: right;\n",
       "    }\n",
       "</style>\n",
       "<table border=\"1\" class=\"dataframe\">\n",
       "  <thead>\n",
       "    <tr style=\"text-align: right;\">\n",
       "      <th></th>\n",
       "      <th>总人数</th>\n",
       "      <th>平均全年工资</th>\n",
       "    </tr>\n",
       "    <tr>\n",
       "      <th>管理岗位／专业技术职称／职业技能等级</th>\n",
       "      <th></th>\n",
       "      <th></th>\n",
       "    </tr>\n",
       "  </thead>\n",
       "  <tbody>\n",
       "    <tr>\n",
       "      <th>没有取得专业技术职称</th>\n",
       "      <td>336</td>\n",
       "      <td>69083.765863</td>\n",
       "    </tr>\n",
       "    <tr>\n",
       "      <th>没有取得资格证书</th>\n",
       "      <td>3463</td>\n",
       "      <td>78277.633971</td>\n",
       "    </tr>\n",
       "    <tr>\n",
       "      <th>初级技能</th>\n",
       "      <td>51</td>\n",
       "      <td>78882.447451</td>\n",
       "    </tr>\n",
       "    <tr>\n",
       "      <th>管理类员工岗（其它管理岗）</th>\n",
       "      <td>360</td>\n",
       "      <td>80107.736722</td>\n",
       "    </tr>\n",
       "    <tr>\n",
       "      <th>高级技能</th>\n",
       "      <td>149</td>\n",
       "      <td>85913.291141</td>\n",
       "    </tr>\n",
       "    <tr>\n",
       "      <th>中级技能</th>\n",
       "      <td>58</td>\n",
       "      <td>86156.831379</td>\n",
       "    </tr>\n",
       "    <tr>\n",
       "      <th>初级职称</th>\n",
       "      <td>301</td>\n",
       "      <td>90077.171296</td>\n",
       "    </tr>\n",
       "    <tr>\n",
       "      <th>技师</th>\n",
       "      <td>66</td>\n",
       "      <td>91777.768636</td>\n",
       "    </tr>\n",
       "    <tr>\n",
       "      <th>中级职称</th>\n",
       "      <td>283</td>\n",
       "      <td>111301.007456</td>\n",
       "    </tr>\n",
       "    <tr>\n",
       "      <th>高级技师</th>\n",
       "      <td>17</td>\n",
       "      <td>111746.715882</td>\n",
       "    </tr>\n",
       "    <tr>\n",
       "      <th>基层管理岗（二级部门管理岗）</th>\n",
       "      <td>96</td>\n",
       "      <td>135149.911562</td>\n",
       "    </tr>\n",
       "    <tr>\n",
       "      <th>高级职称</th>\n",
       "      <td>110</td>\n",
       "      <td>148389.530727</td>\n",
       "    </tr>\n",
       "    <tr>\n",
       "      <th>中层管理岗（一级部门管理岗）</th>\n",
       "      <td>441</td>\n",
       "      <td>158443.840068</td>\n",
       "    </tr>\n",
       "    <tr>\n",
       "      <th>高层管理岗（高级管理岗）</th>\n",
       "      <td>134</td>\n",
       "      <td>305708.611269</td>\n",
       "    </tr>\n",
       "  </tbody>\n",
       "</table>\n",
       "</div>"
      ],
      "text/plain": [
       "                     总人数         平均全年工资\n",
       "管理岗位／专业技术职称／职业技能等级                     \n",
       "没有取得专业技术职称           336   69083.765863\n",
       "没有取得资格证书            3463   78277.633971\n",
       "初级技能                  51   78882.447451\n",
       "管理类员工岗（其它管理岗）        360   80107.736722\n",
       "高级技能                 149   85913.291141\n",
       "中级技能                  58   86156.831379\n",
       "初级职称                 301   90077.171296\n",
       "技师                    66   91777.768636\n",
       "中级职称                 283  111301.007456\n",
       "高级技师                  17  111746.715882\n",
       "基层管理岗（二级部门管理岗）        96  135149.911562\n",
       "高级职称                 110  148389.530727\n",
       "中层管理岗（一级部门管理岗）       441  158443.840068\n",
       "高层管理岗（高级管理岗）         134  305708.611269"
      ]
     },
     "execution_count": 152,
     "metadata": {},
     "output_type": "execute_result"
    }
   ],
   "source": [
    "data3_3_4 = data2.groupby(by='管理岗位／专业技术职称／职业技能等级').mean(numeric_only=True).sort_values(by='全年工资')\n",
    "data3_3_5 = data3_3_4.rename(columns={'全年工资':'平均全年工资'})\n",
    "data3_3_6 = data2.groupby(by='管理岗位／专业技术职称／职业技能等级').count()\n",
    "data3_3_5.insert(0,'总人数',data3_3_6['小类'])\n",
    "data3_3_5"
   ]
  }
 ],
 "metadata": {
  "kernelspec": {
   "display_name": "Python 3 (ipykernel)",
   "language": "python",
   "name": "python3"
  },
  "language_info": {
   "codemirror_mode": {
    "name": "ipython",
    "version": 3
   },
   "file_extension": ".py",
   "mimetype": "text/x-python",
   "name": "python",
   "nbconvert_exporter": "python",
   "pygments_lexer": "ipython3",
   "version": "3.10.6"
  }
 },
 "nbformat": 4,
 "nbformat_minor": 5
}
